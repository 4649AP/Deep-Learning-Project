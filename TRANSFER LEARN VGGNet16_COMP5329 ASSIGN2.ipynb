{
 "cells": [
  {
   "cell_type": "markdown",
   "metadata": {},
   "source": [
    "# COMP5329 ASSIGNMENT \n",
    "## TRANSFER LEARN VGGNet16\n",
    "\n",
    "### INSTRUCTIONS:\n",
    "* Run cells in order to generate results"
   ]
  },
  {
   "cell_type": "code",
   "execution_count": 19,
   "metadata": {},
   "outputs": [],
   "source": [
    "# --------------\n",
    "# BASIC PACKAGES\n",
    "# --------------\n",
    "%matplotlib inline\n",
    "import numpy as np\n",
    "seed = 99\n",
    "np.random.seed(99)\n",
    "import matplotlib.pyplot as plt\n",
    "import scipy as sp\n",
    "import time\n",
    "from datetime import timedelta\n",
    "import math\n",
    "import imageio\n",
    "import os\n",
    "import itertools\n",
    "\n",
    "# ---------------------------\n",
    "# TENSORFLOW & KERAS PACKAGES\n",
    "# ---------------------------\n",
    "import tensorflow as tf\n",
    "import keras\n",
    "from keras.models import Sequential\n",
    "from keras.layers import Dense, Dropout, Activation, Flatten\n",
    "from keras.layers import Conv2D, MaxPooling2D, BatchNormalization\n",
    "from keras.utils import np_utils\n",
    "from keras.preprocessing.image import ImageDataGenerator\n",
    "from keras.callbacks import CSVLogger, ModelCheckpoint\n",
    "from keras.wrappers.scikit_learn import KerasClassifier\n",
    "from keras.models import model_from_json\n",
    "from keras.preprocessing.image import array_to_img, img_to_array, load_img\n",
    "from sklearn.metrics import classification_report\n",
    "from keras.applications.vgg16 import VGG16\n",
    "from keras.preprocessing import image\n",
    "from keras.applications.vgg16 import preprocess_input\n",
    "\n",
    "# ------------------------------------\n",
    "# SCIKIT-LEARN PACKAGES FOR EVALUATION\n",
    "# ------------------------------------\n",
    "from sklearn.datasets import make_classification\n",
    "from sklearn.metrics import classification_report, confusion_matrix\n",
    "from sklearn.model_selection import train_test_split"
   ]
  },
  {
   "cell_type": "markdown",
   "metadata": {},
   "source": [
    "### Define Image Import Function"
   ]
  },
  {
   "cell_type": "code",
   "execution_count": 6,
   "metadata": {},
   "outputs": [],
   "source": [
    "def READ_IN_IMGS(X_train_folder, X_labels, img_height, img_width):\n",
    "    \n",
    "    start = time.time()\n",
    "    no_of_samples = X_labels.shape[0]\n",
    "    X_train_array = np.zeros((no_of_samples,img_height,img_width))\n",
    "    j=0\n",
    "    for i in X_labels:\n",
    "        img_ary = imageio.imread(X_train_folder+i)\n",
    "        img_ary = img_ary.reshape((1,) + img_ary.shape) \n",
    "        X_train_array[j] = img_ary\n",
    "        if j < X_train_array.shape[0]:\n",
    "            j+=1\n",
    "    X_train_array = X_train_array.astype('float32')\n",
    "    X_train_array = X_train_array / 255\n",
    "    print(time.time() - start)\n",
    "    \n",
    "    return(X_train_array)"
   ]
  },
  {
   "cell_type": "markdown",
   "metadata": {},
   "source": [
    "### Listdir for filenames"
   ]
  },
  {
   "cell_type": "code",
   "execution_count": 7,
   "metadata": {},
   "outputs": [],
   "source": [
    "train_lbls = np.loadtxt('train.txt', dtype=str, delimiter=' ')\n",
    "# (6262, 2)\n",
    "vali_lbls = np.loadtxt('vali.txt', dtype=str, delimiter=' ')"
   ]
  },
  {
   "cell_type": "code",
   "execution_count": 8,
   "metadata": {},
   "outputs": [],
   "source": [
    "np.random.seed(seed)\n",
    "np.random.shuffle(train_lbls)\n",
    "np.random.seed(seed)\n",
    "np.random.shuffle(vali_lbls)"
   ]
  },
  {
   "cell_type": "code",
   "execution_count": 9,
   "metadata": {},
   "outputs": [],
   "source": [
    "def READ_IN_IMGS(X_train_folder, X_labels, img_height, img_width):\n",
    "    \n",
    "    start = time.time()\n",
    "    no_of_samples = X_labels.shape[0]\n",
    "    X_train_array = np.zeros((no_of_samples,img_height,img_width))\n",
    "    j=0\n",
    "    for i in X_labels:\n",
    "        img_ary = imageio.imread(X_train_folder+i)\n",
    "        img_ary = img_ary.reshape((1,) + img_ary.shape) \n",
    "        X_train_array[j] = img_ary\n",
    "        if j < X_train_array.shape[0]:\n",
    "            j+=1\n",
    "    X_train_array = X_train_array.astype('float32')\n",
    "    X_train_array = X_train_array / 255\n",
    "    print(time.time() - start)\n",
    "    \n",
    "    return(X_train_array)"
   ]
  },
  {
   "cell_type": "code",
   "execution_count": 10,
   "metadata": {},
   "outputs": [
    {
     "name": "stdout",
     "output_type": "stream",
     "text": [
      "49.68698072433472\n",
      "7.523626804351807\n"
     ]
    }
   ],
   "source": [
    "X_train = READ_IN_IMGS('train-set/',train_lbls[:,0],128,128)\n",
    "X_vali = READ_IN_IMGS('vali-set/',vali_lbls[:,0],128,128)"
   ]
  },
  {
   "cell_type": "code",
   "execution_count": 13,
   "metadata": {},
   "outputs": [],
   "source": [
    "X_train = X_train.reshape(X_train.shape[0], 128, 128, 1)\n",
    "X_vali = X_vali.reshape(X_vali.shape[0], 128, 128, 1)"
   ]
  },
  {
   "cell_type": "code",
   "execution_count": 20,
   "metadata": {},
   "outputs": [
    {
     "data": {
      "text/plain": [
       "(37882, 128, 128, 1)"
      ]
     },
     "execution_count": 20,
     "metadata": {},
     "output_type": "execute_result"
    }
   ],
   "source": [
    "X_train.shape"
   ]
  },
  {
   "cell_type": "code",
   "execution_count": 15,
   "metadata": {},
   "outputs": [],
   "source": [
    "y_vali = np_utils.to_categorical(vali_lbls[:,1], 62)\n",
    "y_train = np_utils.to_categorical(train_lbls[:,1], 62)\n",
    "class_num = y_vali.shape[1]"
   ]
  },
  {
   "cell_type": "code",
   "execution_count": 60,
   "metadata": {},
   "outputs": [],
   "source": [
    "ch3_Xtrain = np.stack((X_train, X_train, X_train),axis=3)"
   ]
  },
  {
   "cell_type": "code",
   "execution_count": 59,
   "metadata": {},
   "outputs": [
    {
     "data": {
      "text/plain": [
       "(37882, 128, 128, 1, 3)"
      ]
     },
     "execution_count": 59,
     "metadata": {},
     "output_type": "execute_result"
    }
   ],
   "source": [
    "ch3_Xtrain.shape"
   ]
  },
  {
   "cell_type": "markdown",
   "metadata": {},
   "source": [
    "### VGGNet Transfer Learning Model:  Retraining only Fully Connected Layers\n",
    "Made with refernce to: https://www.analyticsvidhya.com/blog/2017/06/transfer-learning-the-art-of-fine-tuning-a-pre-trained-model/"
   ]
  },
  {
   "cell_type": "code",
   "execution_count": 68,
   "metadata": {},
   "outputs": [],
   "source": [
    "VVmodel = VGG16(weights='imagenet', include_top=False, input_shape=(128,128,3))"
   ]
  },
  {
   "cell_type": "code",
   "execution_count": 69,
   "metadata": {},
   "outputs": [],
   "source": [
    "# 63 mins runtime on local machine\n",
    "feat_train = model.predict(ch3_Xtrain[:,:,:,:,0])"
   ]
  },
  {
   "cell_type": "code",
   "execution_count": 77,
   "metadata": {},
   "outputs": [],
   "source": [
    "21 mins runtime on local machine\n",
    "feat_test=model.predict(ch3_Xtest[:,:,:,:,0])"
   ]
  },
  {
   "cell_type": "code",
   "execution_count": 83,
   "metadata": {},
   "outputs": [
    {
     "data": {
      "text/plain": [
       "(37882, 4, 4, 512)"
      ]
     },
     "execution_count": 83,
     "metadata": {},
     "output_type": "execute_result"
    }
   ],
   "source": [
    "feat_train.shape"
   ]
  },
  {
   "cell_type": "code",
   "execution_count": 84,
   "metadata": {},
   "outputs": [],
   "source": [
    "train_X = feat_train.reshape(37882,8192)"
   ]
  },
  {
   "cell_type": "code",
   "execution_count": 87,
   "metadata": {
    "scrolled": true
   },
   "outputs": [],
   "source": [
    "model=Sequential()\n",
    "model.add(Dense(1000, input_dim=8192, activation='relu',kernel_initializer='uniform'))\n",
    "model.add(BatchNormalization(momentum=0.6))\n",
    "keras.layers.core.Dropout(0.5)\n",
    "\n",
    "model.add(Dense(512)) \n",
    "model.add(BatchNormalization(momentum=0.6))\n",
    "model.add(Activation('relu'))\n",
    "model.add(Dropout(0.5))\n",
    "model.add(Dense(512)) \n",
    "model.add(BatchNormalization(momentum=0.6))\n",
    "model.add(Activation('relu'))\n",
    "model.add(Dropout(0.5))\n",
    "\n",
    "model.add(Dense(62))\n",
    "model.add(BatchNormalization(momentum=0.6))\n",
    "model.add(Activation('softmax'))\n",
    "\n",
    "model.compile(loss='categorical_crossentropy',\n",
    "              optimizer='adam',\n",
    "              metrics=['accuracy'])"
   ]
  },
  {
   "cell_type": "code",
   "execution_count": 88,
   "metadata": {},
   "outputs": [
    {
     "name": "stdout",
     "output_type": "stream",
     "text": [
      "Train on 34093 samples, validate on 3789 samples\n",
      "Epoch 1/20\n",
      "34093/34093 [==============================] - 107s 3ms/step - loss: 1.4056 - acc: 0.7057 - val_loss: 0.5828 - val_acc: 0.8374\n",
      "Epoch 2/20\n",
      "34093/34093 [==============================] - 105s 3ms/step - loss: 0.8327 - acc: 0.7935 - val_loss: 0.4810 - val_acc: 0.8504\n",
      "Epoch 3/20\n",
      "34093/34093 [==============================] - 106s 3ms/step - loss: 0.6689 - acc: 0.8169 - val_loss: 0.4390 - val_acc: 0.8575\n",
      "Epoch 4/20\n",
      "34093/34093 [==============================] - 106s 3ms/step - loss: 0.5585 - acc: 0.8423 - val_loss: 0.4479 - val_acc: 0.8620\n",
      "Epoch 5/20\n",
      "34093/34093 [==============================] - 106s 3ms/step - loss: 0.4948 - acc: 0.8551 - val_loss: 0.3986 - val_acc: 0.8783\n",
      "Epoch 6/20\n",
      "34093/34093 [==============================] - 116s 3ms/step - loss: 0.4448 - acc: 0.8635 - val_loss: 0.3839 - val_acc: 0.8709\n",
      "Epoch 7/20\n",
      "34093/34093 [==============================] - 111s 3ms/step - loss: 0.4085 - acc: 0.8719 - val_loss: 0.3784 - val_acc: 0.8812\n",
      "Epoch 8/20\n",
      "34093/34093 [==============================] - 110s 3ms/step - loss: 0.3759 - acc: 0.8817 - val_loss: 0.3722 - val_acc: 0.8844\n",
      "Epoch 9/20\n",
      "34093/34093 [==============================] - 117s 3ms/step - loss: 0.3451 - acc: 0.8876 - val_loss: 0.3638 - val_acc: 0.8865\n",
      "Epoch 10/20\n",
      "34093/34093 [==============================] - 113s 3ms/step - loss: 0.3293 - acc: 0.8919 - val_loss: 0.4065 - val_acc: 0.8818\n",
      "Epoch 11/20\n",
      "34093/34093 [==============================] - 119s 3ms/step - loss: 0.3180 - acc: 0.8953 - val_loss: 0.3724 - val_acc: 0.8915\n",
      "Epoch 12/20\n",
      "34093/34093 [==============================] - 118s 3ms/step - loss: 0.2977 - acc: 0.9026 - val_loss: 0.3610 - val_acc: 0.8971\n",
      "Epoch 13/20\n",
      "34093/34093 [==============================] - 111s 3ms/step - loss: 0.2891 - acc: 0.9038 - val_loss: 0.3569 - val_acc: 0.8955\n",
      "Epoch 14/20\n",
      "34093/34093 [==============================] - 120s 4ms/step - loss: 0.2788 - acc: 0.9099 - val_loss: 0.3422 - val_acc: 0.8989\n",
      "Epoch 15/20\n",
      "34093/34093 [==============================] - 148s 4ms/step - loss: 0.2634 - acc: 0.9105 - val_loss: 0.3821 - val_acc: 0.8950\n",
      "Epoch 16/20\n",
      "34093/34093 [==============================] - 139s 4ms/step - loss: 0.2541 - acc: 0.9137 - val_loss: 0.3528 - val_acc: 0.8971\n",
      "Epoch 17/20\n",
      "34093/34093 [==============================] - 114s 3ms/step - loss: 0.2448 - acc: 0.9187 - val_loss: 0.3603 - val_acc: 0.8987\n",
      "Epoch 18/20\n",
      "34093/34093 [==============================] - 131s 4ms/step - loss: 0.2397 - acc: 0.9184 - val_loss: 0.3532 - val_acc: 0.8963\n",
      "Epoch 19/20\n",
      "34093/34093 [==============================] - 136s 4ms/step - loss: 0.2326 - acc: 0.9237 - val_loss: 0.3469 - val_acc: 0.9010\n",
      "Epoch 20/20\n",
      "34093/34093 [==============================] - 109s 3ms/step - loss: 0.2271 - acc: 0.9227 - val_loss: 0.3580 - val_acc: 0.8994\n"
     ]
    }
   ],
   "source": [
    "tfr_lrn = model.fit(train_X,y_train,batch_size=32,epochs=20,validation_split=0.1)"
   ]
  }
 ],
 "metadata": {
  "kernelspec": {
   "display_name": "5329_env",
   "language": "python",
   "name": "5329_env"
  },
  "language_info": {
   "codemirror_mode": {
    "name": "ipython",
    "version": 3
   },
   "file_extension": ".py",
   "mimetype": "text/x-python",
   "name": "python",
   "nbconvert_exporter": "python",
   "pygments_lexer": "ipython3",
   "version": "3.6.4"
  }
 },
 "nbformat": 4,
 "nbformat_minor": 2
}

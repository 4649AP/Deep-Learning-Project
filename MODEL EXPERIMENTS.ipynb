{
 "cells": [
  {
   "cell_type": "markdown",
   "metadata": {},
   "source": [
    "# COMP5329 ASSIGNMENT - EXPERIMENTS\n",
    "\n",
    "\n",
    "## INSTRUCTIONS:\n",
    "* Run cells in order to untile section 'Models'\n",
    "* Choose Desired Model or choose 'Load Model and Weights' to use final model and weights\n",
    "* Run 'Compile Model' cell and Training cells\n",
    "* Run all cells below that point to generate classification report and confusion matrix"
   ]
  },
  {
   "cell_type": "markdown",
   "metadata": {},
   "source": [
    "### Import Relevant Packages"
   ]
  },
  {
   "cell_type": "code",
   "execution_count": 2,
   "metadata": {},
   "outputs": [
    {
     "name": "stderr",
     "output_type": "stream",
     "text": [
      "/anaconda3/lib/python3.6/site-packages/h5py/__init__.py:36: FutureWarning: Conversion of the second argument of issubdtype from `float` to `np.floating` is deprecated. In future, it will be treated as `np.float64 == np.dtype(float).type`.\n",
      "  from ._conv import register_converters as _register_converters\n",
      "Using TensorFlow backend.\n"
     ]
    }
   ],
   "source": [
    "# --------------\n",
    "# BASIC PACKAGES\n",
    "# --------------\n",
    "%matplotlib inline\n",
    "import numpy as np\n",
    "seed = 99\n",
    "np.random.seed(99)\n",
    "import matplotlib.pyplot as plt\n",
    "import scipy as sp\n",
    "import time\n",
    "from datetime import timedelta\n",
    "import math\n",
    "import imageio\n",
    "import os\n",
    "import itertools\n",
    "\n",
    "# ---------------------------\n",
    "# TENSORFLOW & KERAS PACKAGES\n",
    "# ---------------------------\n",
    "import tensorflow as tf\n",
    "import keras\n",
    "from keras.models import Sequential\n",
    "from keras.layers import Dense, Dropout, Activation, Flatten\n",
    "from keras.layers import Conv2D, MaxPooling2D, BatchNormalization\n",
    "from keras.utils import np_utils\n",
    "from keras.preprocessing.image import ImageDataGenerator\n",
    "from keras.callbacks import CSVLogger, ModelCheckpoint\n",
    "from keras.wrappers.scikit_learn import KerasClassifier\n",
    "from keras.models import model_from_json\n",
    "from keras.preprocessing.image import array_to_img, img_to_array, load_img\n",
    "from sklearn.metrics import classification_report\n",
    "\n",
    "# ------------------------------------\n",
    "# SCIKIT-LEARN PACKAGES FOR EVALUATION\n",
    "# ------------------------------------\n",
    "from sklearn.datasets import make_classification\n",
    "from sklearn.metrics import classification_report, confusion_matrix\n",
    "from sklearn.model_selection import train_test_split"
   ]
  },
  {
   "cell_type": "markdown",
   "metadata": {},
   "source": [
    "### Import Labels and Shuffle"
   ]
  },
  {
   "cell_type": "code",
   "execution_count": 4,
   "metadata": {},
   "outputs": [],
   "source": [
    "# (37882, 2)\n",
    "train_lbls = np.loadtxt('train.txt', dtype=str, delimiter=' ')\n",
    "# (6262, 2)\n",
    "vali_lbls = np.loadtxt('vali.txt', dtype=str, delimiter=' ')"
   ]
  },
  {
   "cell_type": "code",
   "execution_count": 5,
   "metadata": {},
   "outputs": [],
   "source": [
    "np.random.seed(seed)\n",
    "np.random.shuffle(train_lbls)\n",
    "np.random.seed(seed)\n",
    "np.random.shuffle(vali_lbls)"
   ]
  },
  {
   "cell_type": "markdown",
   "metadata": {},
   "source": [
    "### Import Training and Validation Sets (Rescale data to between 0 and 1)"
   ]
  },
  {
   "cell_type": "code",
   "execution_count": 6,
   "metadata": {},
   "outputs": [],
   "source": [
    "def READ_IN_IMGS(X_train_folder, X_labels, img_height, img_width):\n",
    "    \n",
    "    start = time.time()\n",
    "    no_of_samples = X_labels.shape[0]\n",
    "    X_train_array = np.zeros((no_of_samples,img_height,img_width))\n",
    "    j=0\n",
    "    for i in X_labels:\n",
    "        img_ary = imageio.imread(X_train_folder+i)\n",
    "        img_ary = img_ary.reshape((1,) + img_ary.shape) \n",
    "        X_train_array[j] = img_ary\n",
    "        if j < X_train_array.shape[0]:\n",
    "            j+=1\n",
    "    X_train_array = X_train_array.astype('float32')\n",
    "    X_train_array = X_train_array / 255\n",
    "    print(time.time() - start)\n",
    "    \n",
    "    return(X_train_array)"
   ]
  },
  {
   "cell_type": "code",
   "execution_count": 7,
   "metadata": {},
   "outputs": [
    {
     "name": "stdout",
     "output_type": "stream",
     "text": [
      "19.43223476409912\n",
      "3.180396318435669\n"
     ]
    }
   ],
   "source": [
    "X_train = READ_IN_IMGS('train-set/',train_lbls[:,0],128,128)\n",
    "X_vali = READ_IN_IMGS('vali-set/',vali_lbls[:,0],128,128)"
   ]
  },
  {
   "cell_type": "code",
   "execution_count": 8,
   "metadata": {},
   "outputs": [
    {
     "data": {
      "text/plain": [
       "array([[0., 0., 0., ..., 1., 1., 1.],\n",
       "       [0., 0., 0., ..., 1., 1., 1.],\n",
       "       [0., 0., 0., ..., 1., 1., 1.],\n",
       "       ...,\n",
       "       [1., 1., 1., ..., 1., 1., 1.],\n",
       "       [1., 1., 1., ..., 1., 1., 1.],\n",
       "       [1., 1., 1., ..., 1., 1., 1.]], dtype=float32)"
      ]
     },
     "execution_count": 8,
     "metadata": {},
     "output_type": "execute_result"
    }
   ],
   "source": [
    "# RAW IMAGES\n",
    "X_train[3,45:,45:]"
   ]
  },
  {
   "cell_type": "markdown",
   "metadata": {},
   "source": [
    "### Normalize the mean around zero for range -1 to 1"
   ]
  },
  {
   "cell_type": "code",
   "execution_count": 9,
   "metadata": {},
   "outputs": [],
   "source": [
    "# X_train -= 0.5\n",
    "# X_vali -= 0.5\n",
    "# X_train *= 2.\n",
    "# X_vali *= 2."
   ]
  },
  {
   "cell_type": "code",
   "execution_count": 10,
   "metadata": {},
   "outputs": [],
   "source": [
    "# X_train[3,45:,45:]"
   ]
  },
  {
   "cell_type": "code",
   "execution_count": 11,
   "metadata": {},
   "outputs": [],
   "source": [
    "X_train = X_train.reshape(X_train.shape[0], 128, 128, 1)\n",
    "X_vali = X_vali.reshape(X_vali.shape[0], 128, 128, 1)"
   ]
  },
  {
   "cell_type": "code",
   "execution_count": 12,
   "metadata": {},
   "outputs": [
    {
     "data": {
      "text/plain": [
       "(37882, 128, 128, 1)"
      ]
     },
     "execution_count": 12,
     "metadata": {},
     "output_type": "execute_result"
    }
   ],
   "source": [
    "X_train.shape"
   ]
  },
  {
   "cell_type": "markdown",
   "metadata": {},
   "source": [
    "### Convert Labels to One Hot Encoding"
   ]
  },
  {
   "cell_type": "code",
   "execution_count": 13,
   "metadata": {},
   "outputs": [],
   "source": [
    "y_vali = np_utils.to_categorical(vali_lbls[:,1], 62)\n",
    "y_train = np_utils.to_categorical(train_lbls[:,1], 62)"
   ]
  },
  {
   "cell_type": "code",
   "execution_count": 14,
   "metadata": {},
   "outputs": [],
   "source": [
    "class_num = y_vali.shape[1]"
   ]
  },
  {
   "cell_type": "markdown",
   "metadata": {},
   "source": [
    "# Experimental Models"
   ]
  },
  {
   "cell_type": "markdown",
   "metadata": {},
   "source": [
    "### (0) Simple Neural Network"
   ]
  },
  {
   "cell_type": "code",
   "execution_count": 15,
   "metadata": {},
   "outputs": [],
   "source": [
    "model = Sequential()\n",
    "\n",
    "model.add(Flatten(input_shape=X_train.shape[1:]))\n",
    "model.add(Dense(4096))\n",
    "model.add(BatchNormalization())\n",
    "model.add(Activation('relu'))\n",
    "model.add(Dropout(0.5))\n",
    "model.add(Dense(1024)) \n",
    "model.add(BatchNormalization())\n",
    "model.add(Activation('relu'))\n",
    "model.add(Dropout(0.5))\n",
    "model.add(Dense(256)) \n",
    "model.add(BatchNormalization())\n",
    "model.add(Activation('relu'))\n",
    "model.add(Dropout(0.5))\n",
    "\n",
    "model.add(Dense(62))\n",
    "model.add(BatchNormalization())\n",
    "model.add(Activation('softmax'))"
   ]
  },
  {
   "cell_type": "markdown",
   "metadata": {},
   "source": [
    "### (A) CNN3232_6464_128128_FC4096F4096_drpt_BN"
   ]
  },
  {
   "cell_type": "code",
   "execution_count": 21,
   "metadata": {},
   "outputs": [
    {
     "name": "stdout",
     "output_type": "stream",
     "text": [
      "(None, 128, 128, 32)\n",
      "(None, 63, 63, 32)\n",
      "(None, 14, 14, 128)\n",
      "(None, 25088)\n"
     ]
    }
   ],
   "source": [
    "model = Sequential()\n",
    "model.add(Conv2D(32, (3, 3), padding='same', input_shape=X_train.shape[1:]))\n",
    "model.add(BatchNormalization())\n",
    "model.add(Activation('relu'))\n",
    "print(model.output_shape)\n",
    "model.add(Conv2D(32, (3, 3)))\n",
    "model.add(BatchNormalization())\n",
    "model.add(Activation('relu'))\n",
    "model.add(MaxPooling2D(pool_size=(2, 2)))\n",
    "model.add(Dropout(0.25))\n",
    "print(model.output_shape)\n",
    "\n",
    "model.add(Conv2D(64, (3, 3), padding='same'))\n",
    "model.add(BatchNormalization())\n",
    "model.add(Activation('relu'))\n",
    "model.add(Conv2D(64, (3, 3)))\n",
    "model.add(BatchNormalization())\n",
    "model.add(Activation('relu'))\n",
    "model.add(MaxPooling2D(pool_size=(2, 2)))\n",
    "model.add(Dropout(0.25))\n",
    "\n",
    "model.add(Conv2D(128, (3, 3), padding='same'))\n",
    "model.add(BatchNormalization())\n",
    "model.add(Activation('relu'))\n",
    "model.add(Conv2D(128, (3, 3)))\n",
    "model.add(BatchNormalization())\n",
    "model.add(Activation('relu'))\n",
    "model.add(MaxPooling2D(pool_size=(2, 2)))\n",
    "model.add(Dropout(0.25))\n",
    "\n",
    "# model.add(Conv2D(512, (3, 3), padding='same'))\n",
    "# model.add(Activation('relu'))\n",
    "# model.add(Conv2D(512, (3, 3), padding='same'))\n",
    "# model.add(Activation('relu'))\n",
    "# model.add(MaxPooling2D(pool_size=(2, 2)))\n",
    "# model.add(Dropout(0.25))\n",
    "\n",
    "print(model.output_shape)\n",
    "model.add(Flatten())\n",
    "print(model.output_shape)\n",
    "\n",
    "model.add(Dense(4096)) \n",
    "model.add(BatchNormalization())\n",
    "model.add(Activation('relu'))\n",
    "model.add(Dropout(0.5))\n",
    "model.add(Dense(4096)) \n",
    "model.add(BatchNormalization())\n",
    "model.add(Activation('relu'))\n",
    "model.add(Dropout(0.5))\n",
    "\n",
    "model.add(Dense(class_num))\n",
    "model.add(BatchNormalization())\n",
    "model.add(Activation('softmax'))"
   ]
  },
  {
   "cell_type": "markdown",
   "metadata": {},
   "source": [
    "### (B/C) CNN3232_3232_3232_FC1024F1024_drpt_BN"
   ]
  },
  {
   "cell_type": "code",
   "execution_count": 19,
   "metadata": {},
   "outputs": [
    {
     "name": "stdout",
     "output_type": "stream",
     "text": [
      "(None, 128, 128, 32)\n",
      "(None, 63, 63, 32)\n",
      "(None, 14, 14, 32)\n",
      "(None, 6272)\n"
     ]
    }
   ],
   "source": [
    "model = Sequential()\n",
    "model.add(Conv2D(32, (3, 3), padding='same', input_shape=X_train.shape[1:]))\n",
    "model.add(BatchNormalization())\n",
    "model.add(Activation('relu'))\n",
    "print(model.output_shape)\n",
    "model.add(Conv2D(32, (3, 3)))\n",
    "model.add(BatchNormalization())\n",
    "model.add(Activation('relu'))\n",
    "model.add(MaxPooling2D(pool_size=(2, 2)))\n",
    "model.add(Dropout(0.25))\n",
    "print(model.output_shape)\n",
    "\n",
    "model.add(Conv2D(32, (3, 3), padding='same'))\n",
    "model.add(BatchNormalization())\n",
    "model.add(Activation('relu'))\n",
    "model.add(Conv2D(32, (3, 3)))\n",
    "model.add(BatchNormalization())\n",
    "model.add(Activation('relu'))\n",
    "model.add(MaxPooling2D(pool_size=(2, 2)))\n",
    "model.add(Dropout(0.25))\n",
    "\n",
    "model.add(Conv2D(32, (3, 3), padding='same'))\n",
    "model.add(BatchNormalization())\n",
    "model.add(Activation('relu'))\n",
    "model.add(Conv2D(32, (3, 3)))\n",
    "model.add(BatchNormalization())\n",
    "model.add(Activation('relu'))\n",
    "model.add(MaxPooling2D(pool_size=(2, 2)))\n",
    "model.add(Dropout(0.25))\n",
    "\n",
    "# model.add(Conv2D(32, (3, 3), padding='same'))\n",
    "# model.add(BatchNormalization())\n",
    "# model.add(Activation('relu'))\n",
    "# model.add(Conv2D(32, (3, 3)))\n",
    "# model.add(BatchNormalization())\n",
    "# model.add(Activation('relu'))\n",
    "# model.add(MaxPooling2D(pool_size=(2, 2)))\n",
    "# model.add(Dropout(0.25))\n",
    "\n",
    "# model.add(Conv2D(32, (3, 3), padding='same'))\n",
    "# model.add(BatchNormalization())\n",
    "# model.add(Activation('relu'))\n",
    "# model.add(Conv2D(32, (3, 3)))\n",
    "# model.add(BatchNormalization())\n",
    "# model.add(Activation('relu'))\n",
    "# model.add(MaxPooling2D(pool_size=(2, 2)))\n",
    "# model.add(Dropout(0.25))\n",
    "\n",
    "print(model.output_shape)\n",
    "model.add(Flatten())\n",
    "print(model.output_shape)\n",
    "\n",
    "model.add(Dense(1024)) \n",
    "model.add(BatchNormalization())\n",
    "model.add(Activation('relu'))\n",
    "model.add(Dropout(0.5))\n",
    "model.add(Dense(1024)) \n",
    "model.add(BatchNormalization())\n",
    "model.add(Activation('relu'))\n",
    "model.add(Dropout(0.5))\n",
    "\n",
    "model.add(Dense(class_num))\n",
    "model.add(BatchNormalization())\n",
    "model.add(Activation('softmax'))"
   ]
  },
  {
   "cell_type": "markdown",
   "metadata": {},
   "source": [
    "### (D) CNN3232_3232_3232_FC512F512_drpt_BN(momentum=0.6)"
   ]
  },
  {
   "cell_type": "code",
   "execution_count": 23,
   "metadata": {},
   "outputs": [
    {
     "name": "stdout",
     "output_type": "stream",
     "text": [
      "(None, 128, 128, 32)\n",
      "(None, 63, 63, 32)\n",
      "(None, 14, 14, 32)\n",
      "(None, 6272)\n"
     ]
    }
   ],
   "source": [
    "model = Sequential()\n",
    "model.add(Conv2D(32, (3, 3), padding='same', input_shape=X_train.shape[1:]))\n",
    "model.add(BatchNormalization(momentum=0.6))\n",
    "model.add(Activation('relu'))\n",
    "print(model.output_shape)\n",
    "model.add(Conv2D(32, (3, 3)))\n",
    "model.add(BatchNormalization(momentum=0.6))\n",
    "model.add(Activation('relu'))\n",
    "model.add(MaxPooling2D(pool_size=(2, 2)))\n",
    "model.add(Dropout(0.25))\n",
    "print(model.output_shape)\n",
    "\n",
    "model.add(Conv2D(32, (3, 3), padding='same'))\n",
    "model.add(BatchNormalization(momentum=0.6))\n",
    "model.add(Activation('relu'))\n",
    "model.add(Conv2D(32, (3, 3)))\n",
    "model.add(BatchNormalization(momentum=0.6))\n",
    "model.add(Activation('relu'))\n",
    "model.add(MaxPooling2D(pool_size=(2, 2)))\n",
    "model.add(Dropout(0.25))\n",
    "\n",
    "model.add(Conv2D(32, (3, 3), padding='same'))\n",
    "model.add(BatchNormalization(momentum=0.6))\n",
    "model.add(Activation('relu'))\n",
    "model.add(Conv2D(32, (3, 3)))\n",
    "model.add(BatchNormalization(momentum=0.6))\n",
    "model.add(Activation('relu'))\n",
    "model.add(MaxPooling2D(pool_size=(2, 2)))\n",
    "model.add(Dropout(0.25))\n",
    "\n",
    "print(model.output_shape)\n",
    "model.add(Flatten())\n",
    "print(model.output_shape)\n",
    "\n",
    "model.add(Dense(512)) \n",
    "model.add(BatchNormalization(momentum=0.6))\n",
    "model.add(Activation('relu'))\n",
    "model.add(Dropout(0.5))\n",
    "model.add(Dense(512)) \n",
    "model.add(BatchNormalization(momentum=0.6))\n",
    "model.add(Activation('relu'))\n",
    "model.add(Dropout(0.5))\n",
    "\n",
    "model.add(Dense(class_num))\n",
    "model.add(BatchNormalization(momentum=0.6))\n",
    "model.add(Activation('softmax'))"
   ]
  },
  {
   "cell_type": "markdown",
   "metadata": {},
   "source": [
    "### (E) CNN3232_3232_3232_3232_FC512F512_drt_BN(momentum=0.6)"
   ]
  },
  {
   "cell_type": "code",
   "execution_count": 27,
   "metadata": {},
   "outputs": [
    {
     "name": "stdout",
     "output_type": "stream",
     "text": [
      "(None, 128, 128, 32)\n",
      "(None, 63, 63, 32)\n",
      "(None, 6, 6, 32)\n",
      "(None, 1152)\n"
     ]
    }
   ],
   "source": [
    "model = Sequential()\n",
    "model.add(Conv2D(32, (3, 3), padding='same', input_shape=X_train.shape[1:]))\n",
    "model.add(BatchNormalization(momentum=0.6))\n",
    "model.add(Activation('relu'))\n",
    "print(model.output_shape)\n",
    "model.add(Conv2D(32, (3, 3)))\n",
    "model.add(BatchNormalization(momentum=0.6))\n",
    "model.add(Activation('relu'))\n",
    "model.add(MaxPooling2D(pool_size=(2, 2)))\n",
    "model.add(Dropout(0.25))\n",
    "print(model.output_shape)\n",
    "\n",
    "model.add(Conv2D(32, (3, 3), padding='same'))\n",
    "model.add(BatchNormalization(momentum=0.6))\n",
    "model.add(Activation('relu'))\n",
    "model.add(Conv2D(32, (3, 3)))\n",
    "model.add(BatchNormalization(momentum=0.6))\n",
    "model.add(Activation('relu'))\n",
    "model.add(MaxPooling2D(pool_size=(2, 2)))\n",
    "model.add(Dropout(0.25))\n",
    "\n",
    "model.add(Conv2D(32, (3, 3), padding='same'))\n",
    "model.add(BatchNormalization(momentum=0.6))\n",
    "model.add(Activation('relu'))\n",
    "model.add(Conv2D(32, (3, 3)))\n",
    "model.add(BatchNormalization(momentum=0.6))\n",
    "model.add(Activation('relu'))\n",
    "model.add(MaxPooling2D(pool_size=(2, 2)))\n",
    "model.add(Dropout(0.25))\n",
    "\n",
    "model.add(Conv2D(32, (3, 3), padding='same'))\n",
    "model.add(BatchNormalization(momentum=0.6))\n",
    "model.add(Activation('relu'))\n",
    "model.add(Conv2D(32, (3, 3)))\n",
    "model.add(BatchNormalization(momentum=0.6))\n",
    "model.add(Activation('relu'))\n",
    "model.add(MaxPooling2D(pool_size=(2, 2)))\n",
    "model.add(Dropout(0.25))\n",
    "\n",
    "print(model.output_shape)\n",
    "model.add(Flatten())\n",
    "print(model.output_shape)\n",
    "\n",
    "model.add(Dense(512)) \n",
    "model.add(BatchNormalization(momentum=0.6))\n",
    "model.add(Activation('relu'))\n",
    "model.add(Dropout(0.5))\n",
    "model.add(Dense(512)) \n",
    "model.add(BatchNormalization(momentum=0.6))\n",
    "model.add(Activation('relu'))\n",
    "model.add(Dropout(0.5))\n",
    "\n",
    "model.add(Dense(class_num))\n",
    "model.add(BatchNormalization(momentum=0.6))\n",
    "model.add(Activation('softmax'))"
   ]
  },
  {
   "cell_type": "markdown",
   "metadata": {},
   "source": [
    "### (F) CNN3232_3232_3232_FC512F512FC512FC62_dt_BN(mtm=0.6)"
   ]
  },
  {
   "cell_type": "code",
   "execution_count": 32,
   "metadata": {},
   "outputs": [
    {
     "name": "stdout",
     "output_type": "stream",
     "text": [
      "(None, 128, 128, 32)\n",
      "(None, 63, 63, 32)\n",
      "(None, 14, 14, 32)\n",
      "(None, 6272)\n"
     ]
    }
   ],
   "source": [
    "model = Sequential()\n",
    "model.add(Conv2D(32, (3, 3), padding='same', input_shape=X_train.shape[1:]))\n",
    "model.add(BatchNormalization(momentum=0.6))\n",
    "model.add(Activation('relu'))\n",
    "print(model.output_shape)\n",
    "model.add(Conv2D(32, (3, 3)))\n",
    "model.add(BatchNormalization(momentum=0.6))\n",
    "model.add(Activation('relu'))\n",
    "model.add(MaxPooling2D(pool_size=(2, 2)))\n",
    "model.add(Dropout(0.25))\n",
    "print(model.output_shape)\n",
    "\n",
    "model.add(Conv2D(32, (3, 3), padding='same'))\n",
    "model.add(BatchNormalization(momentum=0.6))\n",
    "model.add(Activation('relu'))\n",
    "model.add(Conv2D(32, (3, 3)))\n",
    "model.add(BatchNormalization(momentum=0.6))\n",
    "model.add(Activation('relu'))\n",
    "model.add(MaxPooling2D(pool_size=(2, 2)))\n",
    "model.add(Dropout(0.25))\n",
    "\n",
    "model.add(Conv2D(32, (3, 3), padding='same'))\n",
    "model.add(BatchNormalization(momentum=0.6))\n",
    "model.add(Activation('relu'))\n",
    "model.add(Conv2D(32, (3, 3)))\n",
    "model.add(BatchNormalization(momentum=0.6))\n",
    "model.add(Activation('relu'))\n",
    "model.add(MaxPooling2D(pool_size=(2, 2)))\n",
    "model.add(Dropout(0.25))\n",
    "\n",
    "print(model.output_shape)\n",
    "model.add(Flatten())\n",
    "print(model.output_shape)\n",
    "\n",
    "model.add(Dense(512)) \n",
    "model.add(BatchNormalization(momentum=0.6))\n",
    "model.add(Activation('relu'))\n",
    "model.add(Dropout(0.5))\n",
    "model.add(Dense(512)) \n",
    "model.add(BatchNormalization(momentum=0.6))\n",
    "model.add(Activation('relu'))\n",
    "model.add(Dropout(0.5))\n",
    "model.add(Dense(512)) \n",
    "model.add(BatchNormalization(momentum=0.6))\n",
    "model.add(Activation('relu'))\n",
    "model.add(Dropout(0.5))\n",
    "model.add(Dense(62)) \n",
    "model.add(BatchNormalization(momentum=0.6))\n",
    "model.add(Activation('relu'))\n",
    "model.add(Dropout(0.5))\n",
    "\n",
    "model.add(Dense(class_num))\n",
    "model.add(BatchNormalization(momentum=0.6))\n",
    "model.add(Activation('softmax'))"
   ]
  },
  {
   "cell_type": "markdown",
   "metadata": {},
   "source": [
    "### (G) CNN32_32_32_32_32_FC512F512_drpt_BN(momentum=0.6)"
   ]
  },
  {
   "cell_type": "code",
   "execution_count": 29,
   "metadata": {},
   "outputs": [
    {
     "name": "stdout",
     "output_type": "stream",
     "text": [
      "(None, 128, 128, 32)\n",
      "(None, 64, 64, 32)\n",
      "(None, 4, 4, 32)\n",
      "(None, 512)\n"
     ]
    }
   ],
   "source": [
    "model = Sequential()\n",
    "model.add(Conv2D(32, (3, 3), padding='same', input_shape=X_train.shape[1:]))\n",
    "model.add(BatchNormalization(momentum=0.6))\n",
    "model.add(Activation('relu'))\n",
    "print(model.output_shape)\n",
    "model.add(MaxPooling2D(pool_size=(2, 2)))\n",
    "model.add(Dropout(0.25))\n",
    "print(model.output_shape)\n",
    "\n",
    "model.add(Conv2D(32, (3, 3), padding='same'))\n",
    "model.add(BatchNormalization(momentum=0.6))\n",
    "model.add(Activation('relu'))\n",
    "model.add(MaxPooling2D(pool_size=(2, 2)))\n",
    "model.add(Dropout(0.25))\n",
    "\n",
    "model.add(Conv2D(32, (3, 3), padding='same'))\n",
    "model.add(BatchNormalization(momentum=0.6))\n",
    "model.add(Activation('relu'))\n",
    "model.add(MaxPooling2D(pool_size=(2, 2)))\n",
    "model.add(Dropout(0.25))\n",
    "\n",
    "model.add(Conv2D(32, (3, 3), padding='same'))\n",
    "model.add(BatchNormalization(momentum=0.6))\n",
    "model.add(Activation('relu'))\n",
    "model.add(MaxPooling2D(pool_size=(2, 2)))\n",
    "model.add(Dropout(0.25))\n",
    "\n",
    "model.add(Conv2D(32, (3, 3), padding='same'))\n",
    "model.add(BatchNormalization(momentum=0.6))\n",
    "model.add(Activation('relu'))\n",
    "model.add(MaxPooling2D(pool_size=(2, 2)))\n",
    "model.add(Dropout(0.25))\n",
    "\n",
    "# model.add(Conv2D(32, (3, 3), padding='same'))\n",
    "# model.add(BatchNormalization(momentum=0.6))\n",
    "# model.add(Activation('relu'))\n",
    "# model.add(MaxPooling2D(pool_size=(2, 2)))\n",
    "# model.add(Dropout(0.25))\n",
    "\n",
    "print(model.output_shape)\n",
    "model.add(Flatten())\n",
    "print(model.output_shape)\n",
    "\n",
    "model.add(Dense(512)) \n",
    "model.add(BatchNormalization(momentum=0.6))\n",
    "model.add(Activation('relu'))\n",
    "model.add(Dropout(0.5))\n",
    "model.add(Dense(512)) \n",
    "model.add(BatchNormalization(momentum=0.6))\n",
    "model.add(Activation('relu'))\n",
    "model.add(Dropout(0.5))\n",
    "\n",
    "model.add(Dense(class_num))\n",
    "model.add(BatchNormalization(momentum=0.6))\n",
    "model.add(Activation('softmax'))"
   ]
  },
  {
   "cell_type": "markdown",
   "metadata": {},
   "source": [
    "### Load Model and Weights"
   ]
  },
  {
   "cell_type": "code",
   "execution_count": 3,
   "metadata": {},
   "outputs": [],
   "source": [
    "json_file = open(\"Model_D_model.json\", 'r')\n",
    "loaded_model_json = json_file.read()\n",
    "json_file.close()\n",
    "loaded_model = model_from_json(loaded_model_json)\n",
    "\n",
    "loaded_model.load_weights(\"ModelD_weights.hdf5\")"
   ]
  },
  {
   "cell_type": "markdown",
   "metadata": {},
   "source": [
    "### Data Augmentation Train/Test Split"
   ]
  },
  {
   "cell_type": "code",
   "execution_count": null,
   "metadata": {},
   "outputs": [],
   "source": [
    "# X_train_dataug, X_test_dataug, y_train_dataug, y_test_dataug = train_test_split(X_train, y_train, test_size=0.1, random_state=99)"
   ]
  },
  {
   "cell_type": "markdown",
   "metadata": {},
   "source": [
    "### Define Data Augmentation Parameters"
   ]
  },
  {
   "cell_type": "code",
   "execution_count": null,
   "metadata": {},
   "outputs": [],
   "source": [
    "# datagen = ImageDataGenerator(width_shift_range=0.2,\n",
    "#                             height_shift_range=0.2)"
   ]
  },
  {
   "cell_type": "code",
   "execution_count": null,
   "metadata": {},
   "outputs": [],
   "source": [
    "# datagen = ImageDataGenerator(zoom_range=0.25)"
   ]
  },
  {
   "cell_type": "code",
   "execution_count": null,
   "metadata": {},
   "outputs": [],
   "source": [
    "# Halve the size of input image to speed up training?\n",
    "# datagen = ImageDataGenerator(rescale=0.5)"
   ]
  },
  {
   "cell_type": "markdown",
   "metadata": {},
   "source": [
    "### Preprocessing: ZCA Whitening "
   ]
  },
  {
   "cell_type": "code",
   "execution_count": null,
   "metadata": {},
   "outputs": [],
   "source": [
    "# datagen = ImageDataGenerator(zca_whitening=True)\n",
    "# Defualt: zca_epsilon=1e-06,"
   ]
  },
  {
   "cell_type": "markdown",
   "metadata": {},
   "source": [
    "### Fit Data Augmentation to X_train Split"
   ]
  },
  {
   "cell_type": "code",
   "execution_count": null,
   "metadata": {},
   "outputs": [],
   "source": [
    "# ZCA Whitening - Time to Execute: 19 minutes on AWS\n",
    "# datagen.fit(X_train_dataug)"
   ]
  },
  {
   "cell_type": "code",
   "execution_count": null,
   "metadata": {},
   "outputs": [],
   "source": [
    "# os.makedirs('zca_1e06')"
   ]
  },
  {
   "cell_type": "markdown",
   "metadata": {},
   "source": [
    "### Compile Model"
   ]
  },
  {
   "cell_type": "code",
   "execution_count": 21,
   "metadata": {},
   "outputs": [],
   "source": [
    "model.compile(loss='categorical_crossentropy',\n",
    "              optimizer='adam',\n",
    "              metrics=['accuracy'])"
   ]
  },
  {
   "cell_type": "code",
   "execution_count": 22,
   "metadata": {},
   "outputs": [],
   "source": [
    "# checkpoint = ModelCheckpoint(\"model_weights_BEST.hdf5\", monitor='val_acc', verbose=1, save_best_only=True, mode='max')\n",
    "checkpoint = ModelCheckpoint(\"weights.{epoch:02d}-{val_acc:.2f}.hdf5\", monitor='val_acc', verbose=1)"
   ]
  },
  {
   "cell_type": "code",
   "execution_count": 23,
   "metadata": {},
   "outputs": [],
   "source": [
    "csv_logger = CSVLogger('5329training.log')"
   ]
  },
  {
   "cell_type": "markdown",
   "metadata": {},
   "source": [
    "### Fit Model to Augmented Dataset"
   ]
  },
  {
   "cell_type": "code",
   "execution_count": null,
   "metadata": {},
   "outputs": [],
   "source": [
    "# CNN_model = model.fit_generator(datagen.flow(X_train_dataug, y_train_dataug, batch_size=32),\n",
    "#                     steps_per_epoch=len(X_train) / 32, epochs=30,\n",
    "#                     callbacks=[csv_logger, checkpoint], \n",
    "#                     validation_data = (X_test_dataug, y_test_dataug))"
   ]
  },
  {
   "cell_type": "code",
   "execution_count": null,
   "metadata": {},
   "outputs": [],
   "source": [
    "# ZCA Whitening\n",
    "# Epoch 1/20\n",
    "# 1184/1183 [==============================] - 2065s 2s/step - loss: 1.7467 - acc: 0.6089 - val_loss: 4.6675 - val_acc: 0.0264"
   ]
  },
  {
   "cell_type": "markdown",
   "metadata": {},
   "source": [
    "### Fit Model to Original Dataset"
   ]
  },
  {
   "cell_type": "code",
   "execution_count": 24,
   "metadata": {},
   "outputs": [
    {
     "name": "stdout",
     "output_type": "stream",
     "text": [
      "Train on 37882 samples, validate on 6262 samples\n",
      "Epoch 1/30\n",
      "37882/37882 [==============================] - 126s 3ms/step - loss: 1.7376 - acc: 0.6146 - val_loss: 0.6509 - val_acc: 0.8197\n",
      "\n",
      "Epoch 00001: saving model to weights.01-0.82.hdf5\n",
      "Epoch 2/30\n",
      "37882/37882 [==============================] - 123s 3ms/step - loss: 1.0063 - acc: 0.7465 - val_loss: 0.5007 - val_acc: 0.8499\n",
      "\n",
      "Epoch 00002: saving model to weights.02-0.85.hdf5\n",
      "Epoch 3/30\n",
      "37882/37882 [==============================] - 123s 3ms/step - loss: 0.8074 - acc: 0.7785 - val_loss: 0.4522 - val_acc: 0.8638\n",
      "\n",
      "Epoch 00003: saving model to weights.03-0.86.hdf5\n",
      "Epoch 4/30\n",
      "37882/37882 [==============================] - 123s 3ms/step - loss: 0.6983 - acc: 0.7998 - val_loss: 0.4032 - val_acc: 0.8711\n",
      "\n",
      "Epoch 00004: saving model to weights.04-0.87.hdf5\n",
      "Epoch 5/30\n",
      "37882/37882 [==============================] - 123s 3ms/step - loss: 0.6171 - acc: 0.8168 - val_loss: 0.3990 - val_acc: 0.8719\n",
      "\n",
      "Epoch 00005: saving model to weights.05-0.87.hdf5\n",
      "Epoch 6/30\n",
      "37882/37882 [==============================] - 123s 3ms/step - loss: 0.5528 - acc: 0.8328 - val_loss: 0.3573 - val_acc: 0.8857\n",
      "\n",
      "Epoch 00006: saving model to weights.06-0.89.hdf5\n",
      "Epoch 7/30\n",
      "37882/37882 [==============================] - 124s 3ms/step - loss: 0.5003 - acc: 0.8455 - val_loss: 0.3599 - val_acc: 0.8844\n",
      "\n",
      "Epoch 00007: saving model to weights.07-0.88.hdf5\n",
      "Epoch 8/30\n",
      "37882/37882 [==============================] - 123s 3ms/step - loss: 0.4658 - acc: 0.8507 - val_loss: 0.3474 - val_acc: 0.8897\n",
      "\n",
      "Epoch 00008: saving model to weights.08-0.89.hdf5\n",
      "Epoch 9/30\n",
      "37882/37882 [==============================] - 123s 3ms/step - loss: 0.4339 - acc: 0.8591 - val_loss: 0.3354 - val_acc: 0.8968\n",
      "\n",
      "Epoch 00009: saving model to weights.09-0.90.hdf5\n",
      "Epoch 10/30\n",
      "37882/37882 [==============================] - 123s 3ms/step - loss: 0.4082 - acc: 0.8678 - val_loss: 0.3359 - val_acc: 0.8873\n",
      "\n",
      "Epoch 00010: saving model to weights.10-0.89.hdf5\n",
      "Epoch 11/30\n",
      "37882/37882 [==============================] - 123s 3ms/step - loss: 0.3820 - acc: 0.8756 - val_loss: 0.3126 - val_acc: 0.8991\n",
      "\n",
      "Epoch 00011: saving model to weights.11-0.90.hdf5\n",
      "Epoch 12/30\n",
      "37882/37882 [==============================] - 123s 3ms/step - loss: 0.3686 - acc: 0.8774 - val_loss: 0.2979 - val_acc: 0.8960\n",
      "\n",
      "Epoch 00012: saving model to weights.12-0.90.hdf5\n",
      "Epoch 13/30\n",
      "37882/37882 [==============================] - 123s 3ms/step - loss: 0.3527 - acc: 0.8823 - val_loss: 0.2990 - val_acc: 0.8999\n",
      "\n",
      "Epoch 00013: saving model to weights.13-0.90.hdf5\n",
      "Epoch 14/30\n",
      "37882/37882 [==============================] - 123s 3ms/step - loss: 0.3320 - acc: 0.8891 - val_loss: 0.2858 - val_acc: 0.9048\n",
      "\n",
      "Epoch 00014: saving model to weights.14-0.90.hdf5\n",
      "Epoch 15/30\n",
      "37882/37882 [==============================] - 123s 3ms/step - loss: 0.3242 - acc: 0.8904 - val_loss: 0.3026 - val_acc: 0.8996\n",
      "\n",
      "Epoch 00015: saving model to weights.15-0.90.hdf5\n",
      "Epoch 16/30\n",
      "37882/37882 [==============================] - 123s 3ms/step - loss: 0.3141 - acc: 0.8929 - val_loss: 0.2854 - val_acc: 0.9039\n",
      "\n",
      "Epoch 00016: saving model to weights.16-0.90.hdf5\n",
      "Epoch 17/30\n",
      "37882/37882 [==============================] - 123s 3ms/step - loss: 0.3024 - acc: 0.8959 - val_loss: 0.2890 - val_acc: 0.9063\n",
      "\n",
      "Epoch 00017: saving model to weights.17-0.91.hdf5\n",
      "Epoch 18/30\n",
      "37882/37882 [==============================] - 123s 3ms/step - loss: 0.2942 - acc: 0.9001 - val_loss: 0.2887 - val_acc: 0.9059\n",
      "\n",
      "Epoch 00018: saving model to weights.18-0.91.hdf5\n",
      "Epoch 19/30\n",
      "37882/37882 [==============================] - 123s 3ms/step - loss: 0.2867 - acc: 0.9015 - val_loss: 0.2802 - val_acc: 0.9095\n",
      "\n",
      "Epoch 00019: saving model to weights.19-0.91.hdf5\n",
      "Epoch 20/30\n",
      "37882/37882 [==============================] - 123s 3ms/step - loss: 0.2755 - acc: 0.9041 - val_loss: 0.2710 - val_acc: 0.9075\n",
      "\n",
      "Epoch 00020: saving model to weights.20-0.91.hdf5\n",
      "Epoch 21/30\n",
      "37882/37882 [==============================] - 123s 3ms/step - loss: 0.2702 - acc: 0.9060 - val_loss: 0.2993 - val_acc: 0.9072\n",
      "\n",
      "Epoch 00021: saving model to weights.21-0.91.hdf5\n",
      "Epoch 22/30\n",
      "37882/37882 [==============================] - 123s 3ms/step - loss: 0.2646 - acc: 0.9077 - val_loss: 0.2794 - val_acc: 0.9079\n",
      "\n",
      "Epoch 00022: saving model to weights.22-0.91.hdf5\n",
      "Epoch 23/30\n",
      "37882/37882 [==============================] - 123s 3ms/step - loss: 0.2562 - acc: 0.9105 - val_loss: 0.2770 - val_acc: 0.9061\n",
      "\n",
      "Epoch 00023: saving model to weights.23-0.91.hdf5\n",
      "Epoch 24/30\n",
      "37882/37882 [==============================] - 123s 3ms/step - loss: 0.2526 - acc: 0.9133 - val_loss: 0.2874 - val_acc: 0.9087\n",
      "\n",
      "Epoch 00024: saving model to weights.24-0.91.hdf5\n",
      "Epoch 25/30\n",
      "37882/37882 [==============================] - 123s 3ms/step - loss: 0.2481 - acc: 0.9149 - val_loss: 0.2981 - val_acc: 0.9075\n",
      "\n",
      "Epoch 00025: saving model to weights.25-0.91.hdf5\n",
      "Epoch 26/30\n",
      "37882/37882 [==============================] - 123s 3ms/step - loss: 0.2440 - acc: 0.9165 - val_loss: 0.2685 - val_acc: 0.9117\n",
      "\n",
      "Epoch 00026: saving model to weights.26-0.91.hdf5\n",
      "Epoch 27/30\n",
      "37882/37882 [==============================] - 123s 3ms/step - loss: 0.2373 - acc: 0.9189 - val_loss: 0.2745 - val_acc: 0.9107\n",
      "\n",
      "Epoch 00027: saving model to weights.27-0.91.hdf5\n",
      "Epoch 28/30\n",
      "37882/37882 [==============================] - 123s 3ms/step - loss: 0.2360 - acc: 0.9183 - val_loss: 0.2835 - val_acc: 0.9061\n",
      "\n",
      "Epoch 00028: saving model to weights.28-0.91.hdf5\n",
      "Epoch 29/30\n",
      "37882/37882 [==============================] - 123s 3ms/step - loss: 0.2285 - acc: 0.9215 - val_loss: 0.2793 - val_acc: 0.9104\n",
      "\n",
      "Epoch 00029: saving model to weights.29-0.91.hdf5\n",
      "Epoch 30/30\n",
      "37882/37882 [==============================] - 123s 3ms/step - loss: 0.2249 - acc: 0.9228 - val_loss: 0.2764 - val_acc: 0.9099\n",
      "\n",
      "Epoch 00030: saving model to weights.30-0.91.hdf5\n"
     ]
    }
   ],
   "source": [
    "test_model = model.fit(X_train, y_train,\n",
    "                  batch_size=32,\n",
    "                  epochs=30, \n",
    "                    callbacks=[csv_logger, checkpoint], \n",
    "                    validation_data = (X_vali,y_vali))"
   ]
  },
  {
   "cell_type": "code",
   "execution_count": 33,
   "metadata": {},
   "outputs": [],
   "source": [
    "# model.load_weights(\"weights.22-0.91.hdf5\")"
   ]
  },
  {
   "cell_type": "markdown",
   "metadata": {},
   "source": [
    "### Evaluate Model on Holdout Testset"
   ]
  },
  {
   "cell_type": "code",
   "execution_count": 34,
   "metadata": {},
   "outputs": [
    {
     "name": "stdout",
     "output_type": "stream",
     "text": [
      "6262/6262 [==============================] - 7s 1ms/step\n"
     ]
    },
    {
     "data": {
      "text/plain": [
       "[0.2794214840544104, 0.9078569146666197]"
      ]
     },
     "execution_count": 34,
     "metadata": {},
     "output_type": "execute_result"
    }
   ],
   "source": [
    "scores = model.evaluate(X_vali, y_vali, verbose=1)\n",
    "scores"
   ]
  },
  {
   "cell_type": "markdown",
   "metadata": {},
   "source": [
    "### Model Experiments Results:"
   ]
  },
  {
   "cell_type": "code",
   "execution_count": null,
   "metadata": {},
   "outputs": [],
   "source": [
    "#Baseline Preprocessing: value / 255\n",
    "# Adam optimizer\n",
    "\n",
    "# MODEL ZERO - NN\n",
    "# NN_4096_1024_256_62_dropt_BN0.99 97s e, 86% @ 20 epoch converged\n",
    "\n",
    "# MODEL A - VGGNet-Like\n",
    "# CNN3232_6464_128128_FC4096F4096_drpt_BN0.99 297s e, 88 valacc @ 5e (not o/fit yet) - too complex? run 25e\n",
    "\n",
    "# MODEL B - Less Layer Width (simpler and faster)\n",
    "# CNN3232_3232_3232_FC1024F1024_drpt_BN0.99 115s e, 90valcc @ 15 epochs then o/fit (ran 20e) \n",
    "# [0.36212299809369064, 0.8829447460304012]\n",
    "\n",
    "# MODEL C - Less Layer Width with BN momentum = 0.6\n",
    "# CNN3232_3232_3232_FC1024F1024_drpt_BN0.6 115s e, 89.9 @ 12 epochs (stopped @ 20 epoch)\n",
    "# [loss:0.3085, acc:0.9071] test acc after 20 epochs\n",
    "# Epoch 20/20\n",
    "# 34093/34093 [==============================] - 115s 3ms/step - loss: 0.2349 - acc: 0.9197 - val_loss: 0.3097 - val_acc: 0.9111\n",
    "\n",
    "# MODEL D - faster - same result (not overfit yet) but loss converged @ 12e\n",
    "# CNN3232_3232_3232_FC512F512_drpt_BN(momentum=0.6) 109s e, 90.76 @ 20 epochs (not overfit yet)\n",
    "# holdout test result: [loss:0.3006, acc:0.9064]\n",
    "# MODEL D(a) - Mean centred at 0, rang -1 to 1 40 epochs\n",
    "# CNN3232_3232_3232_FC512F512_drpt_BN0.6 110s e, 90.92 @ 25 epochs then overfit\n",
    "# @39e acc: 0.9317, val_acc: 0.9137, hlodout test: [0.296, 0.9115]\n",
    "\n",
    "# MODEL D(b) - (Model D with width_shift_range=0.2,height_shift_range=0.2 - lower - not converged but plateaued - potentially warping images horiz/vertically dispropotionatily?\n",
    "# CNN3232_3232_3232_FC512F512_drpt_BN0.6 122s e, 87 @ 30 epochs \n",
    "# holdout test result: [0.3712, 0.8708]\n",
    "\n",
    "# MODEL D(c) - (Model D with zoom_range=0.25 0-mean, (-1,1)- Worse h/out result than D- not converged yet but flat @ 30e\n",
    "# CNN3232_3232_3232_FC512F512_drpt_BN0.6 122s e, 91 @ 30 epochs \n",
    "# holdout test result: [0.2877, 0.8876]\n",
    "\n",
    "# MODEL E - not converged yet - run more epochs\n",
    "# CNN_3232_3232_3232_3232_FC512F512_adam_drop_BN0.6 110s e, acc 80.5, valacc89 @ 20 epochs \n",
    "# holdout test result: [0.2960, 0.8978]\n",
    "\n",
    "# MODEL F - (Model D with ZCA Whitening)\n",
    "# Epoch 1/20\n",
    "# 1184/1183 [==============================] - 2065s 2s/step - loss: 1.7467 - acc: 0.6089 - val_loss: 4.6675 - val_acc: 0.0264\n",
    "\n",
    "# MODEL F - More FC layers \n",
    "# CNN3232_3232_3232_FC512F512FC512FC62_drpt_BN(momentum=0.6) 114s e, 85 @ 30 epochs\n",
    "# [0.402, 0.8464]\n",
    "\n",
    "# MODEL G - 5 x small conv2d then maxpoool - simpler but deep - not converged @ 100e SAVED WEIGHTS\n",
    "# CNN32_32_32_32_32_FC512F512_drpt_BN0.6 53s e, 0.89997 @ 84 epochs (train acc: 0.8767)\n",
    "# holdout test result: [0.2613, 0.903] using saved weights\n",
    "\n",
    "\n",
    "\n",
    "# MODEL I TRANSFER LEARN VGGNET"
   ]
  },
  {
   "cell_type": "markdown",
   "metadata": {},
   "source": [
    "### Plot Train and Test Accuracy"
   ]
  },
  {
   "cell_type": "code",
   "execution_count": null,
   "metadata": {},
   "outputs": [],
   "source": [
    "model_to_plot = test_model\n",
    "\n",
    "plt.figure(0)\n",
    "plt.plot(model_to_plot.history['acc'],'b')\n",
    "plt.plot(model_to_plot.history['val_acc'],'r')\n",
    "plt.xticks(np.arange(1, 21, 2.0))\n",
    "plt.yticks(np.arange(0.4, 1.05, 0.05))\n",
    "plt.rcParams['figure.figsize'] = (8, 6)\n",
    "plt.xlabel(\"Epoch Count\")\n",
    "plt.ylabel(\"Accuracy\")\n",
    "plt.title(\"MODEL A: Train Accuracy and Validation Accuracy\")\n",
    "plt.legend(['Train','Validation'])"
   ]
  },
  {
   "cell_type": "markdown",
   "metadata": {},
   "source": [
    "### Plot Train and Test Loss"
   ]
  },
  {
   "cell_type": "code",
   "execution_count": null,
   "metadata": {},
   "outputs": [],
   "source": [
    "plt.figure(0)\n",
    "plt.plot(model_to_plot.history['loss'],'b')\n",
    "plt.plot(model_to_plot.history['val_loss'],'r')\n",
    "plt.yticks(np.arange(0, 3.0, 0.2))\n",
    "plt.xticks(np.arange(1, 21, 2.0))\n",
    "plt.rcParams['figure.figsize'] = (8, 6)\n",
    "plt.xlabel(\"Epoch Count\")\n",
    "plt.ylabel(\"Loss\")\n",
    "plt.title(\"MODEL A: Train Loss and Validation Loss\")\n",
    "plt.legend(['Train','Validation'])"
   ]
  },
  {
   "cell_type": "markdown",
   "metadata": {},
   "source": [
    "### Save Model and Weights"
   ]
  },
  {
   "cell_type": "code",
   "execution_count": null,
   "metadata": {},
   "outputs": [],
   "source": [
    "# model_json = model.to_json()\n",
    "# with open(\"5329_Model_H.json\", \"w\") as json_file:\n",
    "#     json_file.write(model_json)"
   ]
  },
  {
   "cell_type": "code",
   "execution_count": null,
   "metadata": {},
   "outputs": [],
   "source": [
    "# model.save_weights(\"5329_Model_H.h5\")"
   ]
  },
  {
   "cell_type": "markdown",
   "metadata": {},
   "source": [
    "### Prepare Confusion Matrix Function"
   ]
  },
  {
   "cell_type": "code",
   "execution_count": null,
   "metadata": {},
   "outputs": [],
   "source": [
    "def plot_confusion_matrix(cm, classes,\n",
    "                          normalize=False,\n",
    "                          title='Confusion matrix',\n",
    "                          cmap=plt.cm.Blues):\n",
    "    \"\"\"\n",
    "    This function prints and plots the confusion matrix.\n",
    "    Normalization can be applied by setting `normalize=True`.\n",
    "    \"\"\"\n",
    "    if normalize:\n",
    "        cm = cm.astype('float') / cm.sum(axis=1)[:, np.newaxis]\n",
    "        print(\"Normalized confusion matrix\")\n",
    "    else:\n",
    "        print('Confusion matrix, without normalization')\n",
    "\n",
    "    print(cm)\n",
    "\n",
    "    plt.imshow(cm, interpolation='nearest', cmap=cmap)\n",
    "    plt.title(title)\n",
    "    plt.colorbar()\n",
    "    tick_marks = np.arange(len(classes))\n",
    "    plt.xticks(tick_marks, classes, rotation=45)\n",
    "    plt.yticks(tick_marks, classes)\n",
    "\n",
    "    fmt = '.2f' if normalize else 'd'\n",
    "    thresh = cm.max() / 2.\n",
    "    for i, j in itertools.product(range(cm.shape[0]), range(cm.shape[1])):\n",
    "        plt.text(j, i, format(cm[i, j], fmt),\n",
    "                 horizontalalignment=\"center\",\n",
    "                 color=\"white\" if cm[i, j] > thresh else \"black\")\n",
    "\n",
    "    plt.tight_layout()\n",
    "    plt.ylabel('True label')\n",
    "    plt.xlabel('Predicted label')\n",
    "    \n",
    "label_set = np.arange(1,63)\n",
    "label_text = ['0','1','2','3','4','5','6','7','8','9',\n",
    "             'A','B','C','D','E','F','G','H','I','J',\n",
    "             'K','L','M','N','O','P','Q','R','S','T',\n",
    "             'U','V','W','X','Y','Z','a','b','c','d',\n",
    "             'e','f','g','h','i','j','k','l','m','n',\n",
    "             'o','p','q','r','s','t','u','v','w','x','y','z']"
   ]
  },
  {
   "cell_type": "markdown",
   "metadata": {},
   "source": [
    "### Generate Classification Report"
   ]
  },
  {
   "cell_type": "code",
   "execution_count": null,
   "metadata": {},
   "outputs": [],
   "source": [
    "y_true = y_vali\n",
    "y_pred = model.predict(X_vali, verbose=1)\n",
    "y_pred2 = np.argmax(y_pred, axis=1)\n",
    "\n",
    "print(classification_report(np.argmax(y_vali,axis=1), y_pred2,target_names = label_text))"
   ]
  },
  {
   "cell_type": "markdown",
   "metadata": {},
   "source": [
    "### Generate Confusion Matrix"
   ]
  },
  {
   "cell_type": "code",
   "execution_count": null,
   "metadata": {},
   "outputs": [],
   "source": [
    "cnf_matrix = confusion_matrix(np.argmax(y_vali,axis=1),y_pred2)\n",
    "\n",
    "# Plot normalized confusion matrix\n",
    "plt.figure(figsize=(30,30))\n",
    "plot_confusion_matrix(cnf_matrix, classes=label_text, normalize=True,\n",
    "                      title='Normalized confusion matrix')\n",
    "\n",
    "plt.show()"
   ]
  },
  {
   "cell_type": "code",
   "execution_count": null,
   "metadata": {},
   "outputs": [],
   "source": [
    "loaded_model.compile(loss='categorical_crossentropy',\n",
    "              optimizer='adam',\n",
    "              metrics=['accuracy'])"
   ]
  }
 ],
 "metadata": {
  "kernelspec": {
   "display_name": "5329_env",
   "language": "python",
   "name": "5329_env"
  },
  "language_info": {
   "codemirror_mode": {
    "name": "ipython",
    "version": 3
   },
   "file_extension": ".py",
   "mimetype": "text/x-python",
   "name": "python",
   "nbconvert_exporter": "python",
   "pygments_lexer": "ipython3",
   "version": "3.6.4"
  }
 },
 "nbformat": 4,
 "nbformat_minor": 2
}
